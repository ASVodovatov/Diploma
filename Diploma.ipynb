{
  "nbformat": 4,
  "nbformat_minor": 0,
  "metadata": {
    "colab": {
      "name": "Diplom.ipynb",
      "provenance": [],
      "collapsed_sections": []
    },
    "kernelspec": {
      "display_name": "Python 3",
      "name": "python3"
    },
    "accelerator": "GPU"
  },
  "cells": [
    {
      "cell_type": "code",
      "metadata": {
        "id": "rV9HYnC-tkkK"
      },
      "source": [
        "import keras\n",
        "import tensorflow as tf\n",
        "from keras.models import Model\n",
        "from keras import Sequential, regularizers, preprocessing\n",
        "from keras.layers import Input, Dense, Activation, Concatenate, BatchNormalization\n",
        "from keras.layers import Dense, GlobalAveragePooling2D, Dropout, UpSampling2D, Conv2D, MaxPooling2D, Add\n",
        "import numpy as np\n",
        "import os\n",
        "import matplotlib.pyplot as plt\n",
        "import numpy.random as rnd"
      ],
      "execution_count": 1,
      "outputs": []
    },
    {
      "cell_type": "code",
      "metadata": {
        "id": "57bDIfuW1Nfq"
      },
      "source": [
        "def get_data(dir):\n",
        "  images = {}\n",
        "  masks = {}\n",
        "  for file in os.listdir(dir + '/Images'):\n",
        "    if(file != '.ipynb_checkpoints'):\n",
        "      images[file] = keras.preprocessing.image.load_img(dir + '/Images/'+file, color_mode='grayscale')\n",
        "  for file in os.listdir(dir + '/Masks'):\n",
        "    if(file != '.ipynb_checkpoints'):\n",
        "      masks[file] = keras.preprocessing.image.load_img(dir + '/Masks/'+file, color_mode='grayscale')\n",
        "\n",
        "  return images, masks\n",
        "\n",
        "\n",
        "def ResidualLayer(filters):\n",
        "  def __Out(input):\n",
        "    conv_1 = Conv2D(filters, (3, 3), padding='same', activation='relu')(input)\n",
        "    norm_1 = BatchNormalization()(conv_1)\n",
        "    conv_2 = Conv2D(filters, (3, 3), padding='same', activation='relu')(norm_1)\n",
        "    norm_2 = BatchNormalization()(conv_2)\n",
        "    conv_skip = Conv2D(filters, (1, 1), padding='same')(input)\n",
        "    result = Add()([norm_2, conv_skip])\n",
        "    return Activation('relu')(result)\n",
        "  return __Out\n",
        "\n",
        "def generator(images, masks, batch_size):\n",
        "  while True:\n",
        "    batch_img = []\n",
        "    batch_msk = []\n",
        "\n",
        "    for i in range(batch_size):\n",
        "      key = list(images)[np.random.randint(len(images.keys()))]\n",
        "      lu_x = rnd.randint(images[key].size[0]-256)\n",
        "      lu_y = rnd.randint(images[key].size[1]-256)\n",
        "      crop_coord = [lu_x, lu_y, lu_x + 256, lu_y + 256]\n",
        "      batch_img.append(np.array(images[key].crop(crop_coord)))\n",
        "      batch_msk.append(np.array(masks[key].crop(crop_coord)))\n",
        "      \n",
        "    yield np.array(batch_img).reshape(batch_size, 256, 256, 1)/255, np.array(batch_msk).reshape(batch_size, 256, 256, 1)/255\n",
        "\n",
        "\n",
        "def testdatagenerator(images, masks, batch_size):\n",
        "  while True:\n",
        "    batch_img = []\n",
        "    batch_msk = []\n",
        "    i = 0\n",
        "    while i < batch_size:\n",
        "      key = list(images)[np.random.randint(len(images.keys()))]\n",
        "      lu_x = rnd.randint(images[key].size[0]-256)\n",
        "      lu_y = rnd.randint(images[key].size[1]-256)\n",
        "      crop_coord = [lu_x, lu_y, lu_x + 256, lu_y + 256]\n",
        "      if(np.array(masks[key].crop(crop_coord)).sum()/255 > 10000):\n",
        "        batch_img.append(np.array(images[key].crop(crop_coord)))\n",
        "        batch_msk.append(np.array(masks[key].crop(crop_coord)))\n",
        "        i+=1\n",
        "      \n",
        "    yield np.array(batch_img).reshape(batch_size, 256, 256, 1)/255, np.array(batch_msk).reshape(batch_size, 256, 256, 1)/255  \n",
        "\n",
        "\n",
        "def Metric(threshold):\n",
        "  IoU = keras.metrics.MeanIoU(2)\n",
        "  def MetricIoU(y_true, y_pred):\n",
        "    cond = tf.less(y_pred, tf.zeros(tf.shape(y_pred))+tf.constant(threshold))\n",
        "    out = tf.where(cond, tf.zeros(tf.shape(y_pred)), tf.ones(tf.shape(y_pred)))\n",
        "    return IoU(y_true, out)\n",
        "  return MetricIoU"
      ],
      "execution_count": 2,
      "outputs": []
    },
    {
      "cell_type": "code",
      "metadata": {
        "id": "PerMp75XCQJS"
      },
      "source": [
        "images, masks = get_data('./drive/MyDrive/Diplom/Train')\n",
        "valid_images, valid_masks = get_data('./drive/MyDrive/Diplom/Valid')"
      ],
      "execution_count": 3,
      "outputs": []
    },
    {
      "cell_type": "code",
      "metadata": {
        "id": "TiGkKZ6168ZY"
      },
      "source": [
        "basis = 4\n",
        "drop = 0.1\n",
        "\n",
        "inp = Input(shape=(None, None, 1))\n",
        "\n",
        "resid_1 = ResidualLayer(basis)(inp)\n",
        "pool_1 = MaxPooling2D(2)(resid_1)\n",
        "drop_1 = Dropout(drop)(pool_1)\n",
        "\n",
        "resid_2 = ResidualLayer(basis*2)(drop_1)\n",
        "pool_2 = MaxPooling2D(2)(resid_2)\n",
        "drop_2 = Dropout(drop)(pool_2)\n",
        "\n",
        "resid_3 = ResidualLayer(basis*4)(drop_2)\n",
        "pool_3 = MaxPooling2D(2)(resid_3)\n",
        "drop_3 = Dropout(drop)(pool_3)\n",
        "\n",
        "resid_4 = ResidualLayer(basis*8)(drop_3)\n",
        "pool_4 = MaxPooling2D(2)(resid_4)\n",
        "drop_4 = Dropout(drop)(pool_4)\n",
        "\n",
        "resid_low = ResidualLayer(basis*16)(drop_4)\n",
        "\n",
        "up_1 = UpSampling2D(2, interpolation='bilinear')(resid_low)\n",
        "conc_1 = Concatenate()([resid_4, up_1])\n",
        "drop_up_1 = Dropout(drop)(conc_1)\n",
        "\n",
        "resid_up_1 = ResidualLayer(basis*8)(drop_up_1)\n",
        "up_2 = UpSampling2D(2, interpolation='bilinear')(resid_up_1)\n",
        "conc_2 = Concatenate()([resid_3, up_2])\n",
        "drop_up_2 = Dropout(drop)(conc_2)\n",
        "\n",
        "resid_up_2 = ResidualLayer(basis*4)(drop_up_2)\n",
        "up_3 = UpSampling2D(2, interpolation='bilinear')(resid_up_2)\n",
        "conc_3 = Concatenate()([resid_2, up_3])\n",
        "drop_up_3 = Dropout(drop)(conc_3)\n",
        "\n",
        "resid_up_3 = ResidualLayer(basis*2)(drop_up_3)\n",
        "up_4 = UpSampling2D(2, interpolation='bilinear')(resid_up_3)\n",
        "conc_4 = Concatenate()([resid_1, up_4])\n",
        "\n",
        "resid_up_4 = ResidualLayer(basis)(conc_4)\n",
        "conv_up_4 = Conv2D(1, (3, 3), padding='same')(resid_up_4)\n",
        "result = Activation('sigmoid')(conv_up_4)\n",
        "\n",
        "\n",
        "model = Model(inputs=inp, outputs=result)"
      ],
      "execution_count": 4,
      "outputs": []
    },
    {
      "cell_type": "code",
      "metadata": {
        "id": "ffopBgwBNR6F"
      },
      "source": [
        "model.compile('Adam', 'binary_crossentropy', metrics = Metric(0.3))"
      ],
      "execution_count": 5,
      "outputs": []
    },
    {
      "cell_type": "code",
      "metadata": {
        "id": "Lejnbqe9NZF2"
      },
      "source": [
        "batch_size = 32\n",
        "history = model.fit_generator(generator(images, masks, batch_size),\n",
        "                steps_per_epoch=100,\n",
        "                epochs=100,\n",
        "                verbose=1,\n",
        "                validation_data = generator(valid_images, valid_masks, batch_size),\n",
        "                validation_steps = 10)\n"
      ],
      "execution_count": null,
      "outputs": []
    },
    {
      "cell_type": "code",
      "metadata": {
        "id": "Sqxvp0Pe3ZHs"
      },
      "source": [
        "np.save('/content/drive/MyDrive/Diplom/History/history.npy',history.history)"
      ],
      "execution_count": null,
      "outputs": []
    },
    {
      "cell_type": "code",
      "metadata": {
        "id": "d7WzsFzI30f2"
      },
      "source": [
        "history=np.load('/content/drive/MyDrive/Diplom/History/history.npy',allow_pickle='TRUE').item()"
      ],
      "execution_count": null,
      "outputs": []
    },
    {
      "cell_type": "code",
      "metadata": {
        "id": "4RP7S0Emu1-J"
      },
      "source": [
        "plt.figure()\n",
        "plt.plot(hist1.history['val_MetricIoU'], label='Adam')\n",
        "plt.plot(hist2.history['val_MetricIoU'], color='red', label='SGD')\n",
        "plt.plot(hist3.history['val_MetricIoU'], color='green', label='Adagrad')\n",
        "plt.plot(hist4.history['val_MetricIoU'], color='yellow', label='Rmsprop')\n",
        "plt.legend()\n",
        "plt.title('IOU')\n",
        "plt.xlabel('epoch')\n",
        "\n",
        "plt.figure()\n",
        "plt.plot(hist1.history['val_loss'], label='Adam')\n",
        "plt.plot(hist2.history['val_loss'], color='red', label='SGD')\n",
        "plt.plot(hist3.history['val_loss'], color='green', label='Adagrad')\n",
        "plt.plot(hist4.history['val_loss'], color='yellow', label='Rmsprop')\n",
        "plt.title('Loss [75-100] epochs')\n",
        "plt.xlabel('epoch')\n",
        "plt.axis([75, 100, 0, 0.6])\n",
        "plt.legend()"
      ],
      "execution_count": null,
      "outputs": []
    },
    {
      "cell_type": "code",
      "metadata": {
        "id": "LHx_CRH4om2G"
      },
      "source": [
        "model.save_weights(f'./drive/MyDrive/Diplom/Models/model.h5')"
      ],
      "execution_count": null,
      "outputs": []
    },
    {
      "cell_type": "code",
      "metadata": {
        "id": "EQyZG6yzQ2Ja"
      },
      "source": [
        "x, y = generator(images, masks, 1).__next__()\n",
        "plt.figure()\n",
        "plt.imshow(model.predict(x).reshape(256, 256))\n",
        "plt.figure()\n",
        "plt.imshow(y.reshape(256, 256))\n"
      ],
      "execution_count": null,
      "outputs": []
    },
    {
      "cell_type": "code",
      "metadata": {
        "id": "8sA2hob-SNfE"
      },
      "source": [
        "valid_x, valid_y = generator(valid_images, valid_masks, 1).__next__()\n",
        "plt.figure()\n",
        "plt.imshow(model.predict(valid_x).reshape(256, 256)>(1/2), cmap = 'Greys_r')\n",
        "plt.figure()\n",
        "plt.imshow(valid_y.reshape(256, 256), cmap = 'Greys_r')\n",
        "plt.figure()\n",
        "plt.imshow(valid_x.reshape(256, 256), cmap = 'Greys_r')"
      ],
      "execution_count": null,
      "outputs": []
    },
    {
      "cell_type": "code",
      "metadata": {
        "id": "kGhx6EOOuokZ"
      },
      "source": [
        "keras.utils.plot_model(model, show_shapes=False, show_layer_names=False, to_file='model.png')"
      ],
      "execution_count": null,
      "outputs": []
    },
    {
      "cell_type": "code",
      "metadata": {
        "id": "f5QKLnvvK36c"
      },
      "source": [
        "import PIL\n",
        "PIL.Image.MAX_IMAGE_PIXELS = 933120000\n",
        "BigImg = keras.preprocessing.image.load_img('./drive/MyDrive/Diplom/sq.png', color_mode='grayscale')"
      ],
      "execution_count": 8,
      "outputs": []
    },
    {
      "cell_type": "code",
      "metadata": {
        "id": "CzuM34BZUKe0"
      },
      "source": [
        "\n",
        "import time \n",
        "array = np.zeros((BigImg.size[0], BigImg.size[1]))\n",
        "shape = 256\n",
        "for i in range(BigImg.size[0]//shape):\n",
        "  print('\\r', i/(BigImg.size[0]//shape), ' '*10, end='')\n",
        "  for j in range(BigImg.size[1]//shape):\n",
        "    crop_coord = [shape*i, shape*j, shape*i + shape, shape*j+ + shape]\n",
        "    crop = BigImg.crop(crop_coord)\n",
        "    npCrop = np.array(crop).reshape(1, shape, shape, 1)/255\n",
        "    array[i*shape:(i+1)*shape,j*shape:(j+1)*shape] = np.array(model.predict(npCrop).reshape(shape, shape)).transpose()\n",
        "threshold = 0.21 \n",
        "array[array<threshold] = 0\n",
        "array[array>threshold] = 1"
      ],
      "execution_count": null,
      "outputs": []
    },
    {
      "cell_type": "code",
      "metadata": {
        "id": "-SnjkiACaSFh"
      },
      "source": [
        "plt.imshow(array, cmap = 'Greys_r')"
      ],
      "execution_count": null,
      "outputs": []
    },
    {
      "cell_type": "code",
      "metadata": {
        "id": "83HJYW9gv5Bp"
      },
      "source": [
        "PIL.Image.fromarray((array*255).astype('uint8'), mode='L').save('/content/drive/MyDrive/Diplom/sq_masked.png')"
      ],
      "execution_count": null,
      "outputs": []
    }
  ]
}